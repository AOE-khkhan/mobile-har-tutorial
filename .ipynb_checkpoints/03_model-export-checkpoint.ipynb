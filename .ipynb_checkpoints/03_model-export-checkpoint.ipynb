{
 "cells": [
  {
   "cell_type": "markdown",
   "metadata": {},
   "source": [
    "# MobileHCI 2018 tutorial: Machine Learning for Intelligent Mobile User Interfaces using Keras"
   ]
  },
  {
   "cell_type": "code",
   "execution_count": 8,
   "metadata": {
    "collapsed": true
   },
   "outputs": [],
   "source": [
    "# -*- coding: utf-8 -*-\n",
    "\n",
    "## By Abdallah El Ali\n",
    "## MobileHCI 2018 tutorial: Machine Learning for Intelligent Mobile User Interfaces using Keras\n",
    "## 03_model-export: visualize and export your TF graphs to Android\n",
    "\n",
    "import tensorflow as tf\n",
    "from tensorflow.python.framework import graph_util, graph_io\n",
    "from tensorflow.python.tools import freeze_graph\n",
    "\n",
    "from keras.models import Sequential, load_model, model_from_json\n",
    "from keras.layers import Dense, Conv2D, MaxPooling2D, Flatten, Dropout, LSTM, LSTMCell, Bidirectional, TimeDistributed, InputLayer, ConvLSTM2D\n",
    "from keras import optimizers\n",
    "from keras import backend as K\n",
    "\n",
    "from sklearn import metrics\n",
    "from sklearn.model_selection import train_test_split, cross_val_score, LeaveOneGroupOut\n",
    "# http://scikit-learn.org/stable/modules/generated/sklearn.model_selection.LeaveOneGroupOut.html#sklearn.model_selection.LeaveOneGroupOut\n",
    "\n",
    "from scipy import stats\n",
    "import scipy.io\n",
    "\n",
    "import pandas as pd\n",
    "import numpy as np\n",
    "import matplotlib\n",
    "import matplotlib.pyplot as plt\n",
    "import matplotlib.colors as colors\n",
    "import matplotlib.cm\n",
    "import seaborn as sns\n",
    "import pickle\n",
    "import math\n",
    "# from mpl_toolkits.mplot3d import Axes3D\n",
    "import pylab\n",
    "import os\n",
    "import os.path as osp\n",
    "import wget\n",
    "import zipfile\n",
    "import warnings\n",
    "\n",
    "# warnings.filterwarnings('ignore')\n",
    "%matplotlib inline\n",
    "sns.set(style='whitegrid', palette='muted', font_scale=1.5)\n",
    "\n",
    "# graph = tf.get_default_graph()\n",
    "K.clear_session()"
   ]
  },
  {
   "cell_type": "code",
   "execution_count": 13,
   "metadata": {
    "collapsed": true
   },
   "outputs": [],
   "source": [
    "## install all necessary python 3.6 packages\n",
    "# !pip3 install -r requirements.txt"
   ]
  },
  {
   "cell_type": "code",
   "execution_count": 1,
   "metadata": {},
   "outputs": [],
   "source": [
    "## convert Jupyter notebook to a README for GitHub repo's main page\n",
    "# !jupyter nbconvert --to markdown 03_model-export.ipynb\n",
    "# !mv 03_model-export.md README.md"
   ]
  },
  {
   "cell_type": "code",
   "execution_count": 2,
   "metadata": {
    "collapsed": true
   },
   "outputs": [],
   "source": [
    "# If GPU is not available: \n",
    "# GPU_USE = '/cpu:0'\n",
    "# config = tf.ConfigProto(device_count = {\"GPU\": 0})\n",
    "\n",
    "\n",
    "# If GPU is available: \n",
    "config = tf.ConfigProto()\n",
    "config.log_device_placement = True\n",
    "config.allow_soft_placement = True\n",
    "config.gpu_options.allocator_type = 'BFC'\n",
    "\n",
    "\n",
    "# Limit the maximum memory used\n",
    "# config.gpu_options.per_process_gpu_memory_fraction = 0.1\n",
    "\n",
    "# set session config\n",
    "tf.keras.backend.set_session(tf.Session(config=config))"
   ]
  },
  {
   "cell_type": "code",
   "execution_count": 15,
   "metadata": {
    "scrolled": true
   },
   "outputs": [
    {
     "name": "stdout",
     "output_type": "stream",
     "text": [
      "1.9.0\n",
      "Python 3.6.5\n",
      "2.2.3 /home/abdo/.local/lib/python3.6/site-packages/matplotlib/__init__.py\n"
     ]
    }
   ],
   "source": [
    "## check tensorflow version\n",
    "!python3 -W ignore -c 'import tensorflow as tf; print(tf.__version__)'  # for Python 3\n",
    "\n",
    "## check python version\n",
    "!python3 --version\n",
    "\n",
    "## check matplotlib version\n",
    "!python3 -c 'import matplotlib; print(matplotlib.__version__, matplotlib.__file__)'\n",
    "\n",
    "\n",
    "## gradle TF build repo\n",
    "# https://mvnrepository.com/artifact/org.tensorflow/tensorflow-android/1.5.0-rc1"
   ]
  },
  {
   "cell_type": "markdown",
   "metadata": {},
   "source": [
    "### Freeze and inspect Keras model graphs"
   ]
  },
  {
   "cell_type": "code",
   "execution_count": 15,
   "metadata": {
    "collapsed": true
   },
   "outputs": [],
   "source": [
    "if not os.path.exists('./tensorflow_pb_models'):\n",
    "    os.makedirs('./tensorflow_pb_models')"
   ]
  },
  {
   "cell_type": "code",
   "execution_count": 16,
   "metadata": {
    "collapsed": true
   },
   "outputs": [],
   "source": [
    "## function to find out input and output names of frozen graphs\n",
    "def print_graph_nodes(filename):\n",
    "    g = tf.GraphDef()\n",
    "    g.ParseFromString(open(filename, 'rb').read())\n",
    "    print()\n",
    "    print(filename)\n",
    "    print('=======================INPUT=========================')\n",
    "    print([n for n in g.node if n.name.find('input') != -1])\n",
    "    print('=======================OUTPUT========================')\n",
    "    print([n for n in g.node if n.name.find('output') != -1])\n",
    "    print('===================KERAS_LEARNING=====================')\n",
    "    print([n for n in g.node if n.name.find('keras_learning_phase') != -1])\n",
    "    print('======================================================')\n",
    "    print()"
   ]
  },
  {
   "cell_type": "code",
   "execution_count": 20,
   "metadata": {},
   "outputs": [
    {
     "name": "stdout",
     "output_type": "stream",
     "text": [
      "output nodes names are:  ['output_node0']\n",
      "INFO:tensorflow:Froze 10 variables.\n",
      "INFO:tensorflow:Converted 10 variables to const ops.\n",
      "saved the constant graph (ready for inference) at:  tensorflow_pb_models/model_had_lstm_logo.pb\n"
     ]
    }
   ],
   "source": [
    "## Freeze graphs: Method 1 \n",
    "## NOTE: all frozen models are based on TrainSplit of 80%/20%, and not on LeaveOneGroupOut model (since we take the last one)\n",
    "\n",
    "K.clear_session()\n",
    "\n",
    "## this was created with @warptime's help. Thank you!\n",
    "\n",
    "saved_model_path = './data/model_had_lstm_logo.h5'\n",
    "\n",
    "model = load_model(saved_model_path)\n",
    "nb_classes = 1 ## The number of output nodes in the model\n",
    "prefix_output_node_names_of_final_network = 'output_node'\n",
    "\n",
    "K.set_learning_phase(0)\n",
    "\n",
    "pred = [None]*nb_classes\n",
    "pred_node_names = [None]*nb_classes\n",
    "for i in range(nb_classes):\n",
    "    pred_node_names[i] = prefix_output_node_names_of_final_network+str(i)\n",
    "    pred[i] = tf.identity(model.output[i], name=pred_node_names[i])\n",
    "print('output nodes names are: ', pred_node_names)\n",
    "\n",
    "sess = K.get_session()\n",
    "output_fld = 'tensorflow_pb_models/'\n",
    "if not os.path.isdir(output_fld):\n",
    "    os.mkdir(output_fld)\n",
    "output_graph_name = 'model_had_lstm_logo' + '.pb'\n",
    "output_graph_suffix = '_inference'\n",
    "\n",
    "constant_graph = graph_util.convert_variables_to_constants(sess, sess.graph.as_graph_def(), pred_node_names)\n",
    "graph_io.write_graph(constant_graph, output_fld, output_graph_name, as_text=False)\n",
    "print('saved the constant graph (ready for inference) at: ', osp.join(output_fld, output_graph_name))"
   ]
  },
  {
   "cell_type": "code",
   "execution_count": 21,
   "metadata": {
    "scrolled": true
   },
   "outputs": [
    {
     "name": "stdout",
     "output_type": "stream",
     "text": [
      "\n",
      "./tensorflow_pb_models/model_had_lstm_logo.pb\n",
      "=======================INPUT=========================\n",
      "[name: \"keras_learning_phase/input\"\n",
      "op: \"Const\"\n",
      "attr {\n",
      "  key: \"dtype\"\n",
      "  value {\n",
      "    type: DT_BOOL\n",
      "  }\n",
      "}\n",
      "attr {\n",
      "  key: \"value\"\n",
      "  value {\n",
      "    tensor {\n",
      "      dtype: DT_BOOL\n",
      "      tensor_shape {\n",
      "      }\n",
      "      bool_val: false\n",
      "    }\n",
      "  }\n",
      "}\n",
      ", name: \"conv_lst_m2d_14_input\"\n",
      "op: \"Placeholder\"\n",
      "attr {\n",
      "  key: \"dtype\"\n",
      "  value {\n",
      "    type: DT_FLOAT\n",
      "  }\n",
      "}\n",
      "attr {\n",
      "  key: \"shape\"\n",
      "  value {\n",
      "    shape {\n",
      "      dim {\n",
      "        size: -1\n",
      "      }\n",
      "      dim {\n",
      "        size: -1\n",
      "      }\n",
      "      dim {\n",
      "        size: 90\n",
      "      }\n",
      "      dim {\n",
      "        size: 6\n",
      "      }\n",
      "      dim {\n",
      "        size: 1\n",
      "      }\n",
      "    }\n",
      "  }\n",
      "}\n",
      "]\n",
      "=======================OUTPUT========================\n",
      "[name: \"output_node0\"\n",
      "op: \"Identity\"\n",
      "input: \"strided_slice\"\n",
      "attr {\n",
      "  key: \"T\"\n",
      "  value {\n",
      "    type: DT_FLOAT\n",
      "  }\n",
      "}\n",
      "]\n",
      "===================KERAS_LEARNING=====================\n",
      "[name: \"keras_learning_phase/input\"\n",
      "op: \"Const\"\n",
      "attr {\n",
      "  key: \"dtype\"\n",
      "  value {\n",
      "    type: DT_BOOL\n",
      "  }\n",
      "}\n",
      "attr {\n",
      "  key: \"value\"\n",
      "  value {\n",
      "    tensor {\n",
      "      dtype: DT_BOOL\n",
      "      tensor_shape {\n",
      "      }\n",
      "      bool_val: false\n",
      "    }\n",
      "  }\n",
      "}\n",
      ", name: \"keras_learning_phase\"\n",
      "op: \"PlaceholderWithDefault\"\n",
      "input: \"keras_learning_phase/input\"\n",
      "attr {\n",
      "  key: \"dtype\"\n",
      "  value {\n",
      "    type: DT_BOOL\n",
      "  }\n",
      "}\n",
      "attr {\n",
      "  key: \"shape\"\n",
      "  value {\n",
      "    shape {\n",
      "    }\n",
      "  }\n",
      "}\n",
      "]\n",
      "======================================================\n",
      "\n"
     ]
    }
   ],
   "source": [
    "## Method 1 inspect output\n",
    "\n",
    "print_graph_nodes('./tensorflow_pb_models/model_had_lstm_logo.pb')\n",
    "# print_graph_nodes('./graph_test/output_graph.pb')"
   ]
  },
  {
   "cell_type": "code",
   "execution_count": null,
   "metadata": {
    "collapsed": true
   },
   "outputs": [],
   "source": [
    "## Freeze graphs: Method 2\n",
    "\n",
    "K.clear_session()\n",
    "\n",
    "def freeze_session(session, keep_var_names=None, output_names=None, clear_devices=True):\n",
    "    '''\n",
    "    Freezes the state of a session into a pruned computation graph.\n",
    "\n",
    "    Creates a new computation graph where variable nodes are replaced by\n",
    "    constants taking their current value in the session. The new graph will be\n",
    "    pruned so subgraphs that are not necessary to compute the requested\n",
    "    outputs are removed.\n",
    "    @param session The TensorFlow session to be frozen.\n",
    "    @param keep_var_names A list of variable names that should not be frozen,\n",
    "                          or None to freeze all the variables in the graph.\n",
    "    @param output_names Names of the relevant graph outputs.\n",
    "    @param clear_devices Remove the device directives from the graph for better portability.\n",
    "    @return The frozen graph definition.\n",
    "    '''\n",
    "    \n",
    "    from tensorflow.python.framework.graph_util import convert_variables_to_constants\n",
    "    graph = session.graph\n",
    "    with graph.as_default():\n",
    "        freeze_var_names = list(set(v.op.name for v in tf.global_variables()).difference(keep_var_names or []))\n",
    "        output_names = output_names or []\n",
    "        output_names += [v.op.name for v in tf.global_variables()]\n",
    "        input_graph_def = graph.as_graph_def()\n",
    "        if clear_devices:\n",
    "            for node in input_graph_def.node:\n",
    "                node.device = ''\n",
    "        frozen_graph = convert_variables_to_constants(session, input_graph_def,\n",
    "                                                      output_names, freeze_var_names)\n",
    "        return frozen_graph\n",
    "\n",
    "## create, compile and train model\n",
    "K.set_learning_phase(0)\n",
    "\n",
    "# model = 'model_ucd.h5'\n",
    "model = load_model('./tensorflow_pb_models/model_ucd.h5')\n",
    "\n",
    "# tf.reset_default_graph()\n",
    "frozen_graph = freeze_session(K.get_session(), output_names=[out.op.name for out in model.outputs])\n",
    "tf.train.write_graph(frozen_graph, './tensorflow_pb_models/', 'ucd_model_test2.pb', as_text=False)"
   ]
  },
  {
   "cell_type": "code",
   "execution_count": null,
   "metadata": {
    "collapsed": true
   },
   "outputs": [],
   "source": [
    "## method 2 inspect output\n",
    "print_graph_nodes('./tensorflow_pb_models/ucd_model_test2.pb')"
   ]
  },
  {
   "cell_type": "code",
   "execution_count": null,
   "metadata": {
    "collapsed": true
   },
   "outputs": [],
   "source": [
    "## freeze graphs: Method 3 - using freeze_graph.py\n",
    "\n",
    "K.clear_session()\n",
    "\n",
    "K.set_learning_phase(0)\n",
    "model = load_model('model_hcd_test.h5')\n",
    "print(model.output.op.name)\n",
    "saver = tf.train.Saver()\n",
    "saver.save(K.get_session(), '/tmp/keras_model_test.ckpt')"
   ]
  },
  {
   "cell_type": "code",
   "execution_count": null,
   "metadata": {
    "collapsed": true
   },
   "outputs": [],
   "source": [
    "!python -W ignore /Users/aelali/anaconda/lib/python2.7/site-packages/tensorflow/python/tools/freeze_graph.py --input_meta_graph=/tmp/keras_model_test.ckpt.meta \\\n",
    "--input_checkpoint=/tmp/keras_model_test.ckpt --output_graph=./tensorflow_model/ucd_keras_frozen3_TEST.pb --output_node_names='OUTPUT/truediv' --input_binary=true"
   ]
  },
  {
   "cell_type": "code",
   "execution_count": null,
   "metadata": {
    "collapsed": true
   },
   "outputs": [],
   "source": [
    "## method 3 inspect output\n",
    "print_graph_nodes('./tensorflow_pb_models/ucd_keras_frozen3_test.pb')"
   ]
  },
  {
   "cell_type": "code",
   "execution_count": null,
   "metadata": {
    "collapsed": true
   },
   "outputs": [],
   "source": [
    "## freeze graphs: Method 4\n",
    "\n",
    "model = load_model('./tensorflow_pb_models/model_hcd_test.h5')\n",
    "# model.load_weights('model_weights_ucd.h5')\n",
    " \n",
    "## all new operations will be in test mode from now on\n",
    "K.set_learning_phase(0)\n",
    " \n",
    "## serialize the model and get its weights, for quick re-building\n",
    "config = model.get_config()\n",
    "weights = model.get_weights()\n",
    " \n",
    "## re-build a model where the learning phase is now hard-coded to 0\n",
    "new_model = Sequential.from_config(config)\n",
    "new_model.set_weights(weights)\n",
    " \n",
    "temp_dir = 'graph_test'\n",
    "checkpoint_prefix = os.path.join(temp_dir, 'saved_checkpoint')\n",
    "checkpoint_state_name = 'checkpoint_state'\n",
    "input_graph_name = 'input_graph.pb'\n",
    "output_graph_name = 'output_graph.pb'\n",
    " \n",
    "## temporary save graph to disk without weights included\n",
    "saver = tf.train.Saver()\n",
    "checkpoint_path = saver.save(K.get_session(), checkpoint_prefix, global_step=0, latest_filename=checkpoint_state_name)\n",
    "tf.train.write_graph(K.get_session().graph, temp_dir, input_graph_name)\n",
    " \n",
    "input_graph_path = os.path.join(temp_dir, input_graph_name)\n",
    "input_saver_def_path = ''\n",
    "input_binary = False\n",
    "output_node_names = 'OUTPUT/truediv' # model dependent (e.g., Softmax)\n",
    "restore_op_name = 'save/restore_all'\n",
    "filename_tensor_name = 'save/Const:0'\n",
    "output_graph_path = os.path.join(temp_dir, output_graph_name)\n",
    "clear_devices = False\n",
    " \n",
    "## embed weights inside the graph and save to disk\n",
    "freeze_graph.freeze_graph(input_graph_path, input_saver_def_path,\n",
    "                          input_binary, checkpoint_path,\n",
    "                          output_node_names, restore_op_name,\n",
    "                          filename_tensor_name, output_graph_path,\n",
    "                          clear_devices, '')"
   ]
  },
  {
   "cell_type": "markdown",
   "metadata": {},
   "source": [
    "### Inspect graphs with TensorBoard "
   ]
  },
  {
   "cell_type": "code",
   "execution_count": null,
   "metadata": {
    "collapsed": true
   },
   "outputs": [],
   "source": [
    "## visualize using tensorboard\n",
    "import webbrowser\n",
    "\n",
    "tf.logging.set_verbosity(tf.logging.ERROR)\n",
    "os.environ['TF_CPP_MIN_LOG_LEVEL'] = '2'\n",
    "\n",
    "## convert the model to tensorboard viz\n",
    "!python -W ignore /Users/aelali/anaconda/lib/python2.7/site-packages/tensorflow/python/tools/import_pb_to_tensorboard.py --model_dir ~/Desktop/HAR-CNN-Keras/tensorflow_pb_models/model_ucd.h5.pb --log_dir /tmp/tensorflow_logdir \n",
    "\n",
    "## UNCOMMENT to run tensorboard on stated logdir\n",
    "# !tensorboard --logdir /tmp/tensorflow_logdir\n",
    "\n",
    "## go to tensorboard in your browser\n",
    "# url = 'http://' + 'localhost:6006/'\n",
    "# webbrowser.open(url)\n",
    "\n"
   ]
  },
  {
   "cell_type": "code",
   "execution_count": null,
   "metadata": {
    "collapsed": true
   },
   "outputs": [],
   "source": [
    "# !pip install pixiedust\n",
    "# import pixiedust\n",
    "# %%pixie_debugger"
   ]
  },
  {
   "cell_type": "markdown",
   "metadata": {},
   "source": [
    "### Test if your frozen model works as intended"
   ]
  },
  {
   "cell_type": "code",
   "execution_count": null,
   "metadata": {
    "collapsed": true
   },
   "outputs": [],
   "source": [
    "## define a function to load the frozen graph\n",
    "\n",
    "def load_graph(frozen_graph_filename):\n",
    "    ## load the protobuf file from the disk and parse it to retrieve the unserialized graph_def\n",
    "    with tf.gfile.GFile(frozen_graph_filename, 'rb') as f:\n",
    "        graph_def = tf.GraphDef()\n",
    "        graph_def.ParseFromString(f.read())\n",
    "\n",
    "    ## import the graph_def into a new Graph and returns it \n",
    "    with tf.Graph().as_default() as graph:\n",
    "        ## graph var will prefix every op/nodes in your graph\n",
    "        ## since we load everything in a new graph, this is not needed\n",
    "        tf.import_graph_def(graph_def, name='prefix')\n",
    "    return graph"
   ]
  },
  {
   "cell_type": "code",
   "execution_count": null,
   "metadata": {
    "collapsed": true
   },
   "outputs": [],
   "source": [
    "## load the graph using the 'load_graph' function\n",
    "graph = load_graph('/Users/aelali/Desktop/HAR-CNN-Keras/tensorflow_pb_models/model_ucd.h5.pb')\n",
    "\n",
    "## verify that we can access the list of operations in the graph\n",
    "for op in graph.get_operations():\n",
    "    print(op.name)    "
   ]
  },
  {
   "cell_type": "code",
   "execution_count": null,
   "metadata": {
    "collapsed": true
   },
   "outputs": [],
   "source": [
    "## now test if the frozen model performs predictions as intended\n",
    "\n",
    "## get the input and output nodes \n",
    "x = graph.get_tensor_by_name('prefix/conv2d_1_input:0')\n",
    "y = graph.get_tensor_by_name('prefix/dense_3/Softmax:0')\n",
    "\n",
    "## launch tf session\n",
    "with tf.Session(graph=graph) as sess:\n",
    "    ## note: we don't need to initialize/restore anything\n",
    "    ## there are no vars in this graph, only hardcoded constants \n",
    "    y_out = sess.run(y, feed_dict={\n",
    "        x: testX[[100]] # < 45\n",
    "    })\n",
    "    \n",
    "    l = np.round(testY[[100]])\n",
    "    print('label: ' + str(l))\n",
    "    z = (np.round(y_out)).astype(int)\n",
    "    print('prediction: ' + str(z))\n",
    "    \n",
    "    print('prediction correct? ' + str(np.array_equal(l,z)))"
   ]
  }
 ],
 "metadata": {
  "kernelspec": {
   "display_name": "Python 2",
   "language": "python",
   "name": "python2"
  },
  "language_info": {
   "codemirror_mode": {
    "name": "ipython",
    "version": 2
   },
   "file_extension": ".py",
   "mimetype": "text/x-python",
   "name": "python",
   "nbconvert_exporter": "python",
   "pygments_lexer": "ipython2",
   "version": "2.7.14"
  }
 },
 "nbformat": 4,
 "nbformat_minor": 2
}
